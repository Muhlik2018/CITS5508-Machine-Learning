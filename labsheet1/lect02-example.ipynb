{
 "cells": [
  {
   "cell_type": "markdown",
   "id": "44a09734",
   "metadata": {},
   "source": [
    "<div style=\"background-color:rgb(255, 255, 200);\">\n",
    "    \n",
    "**File name: lect02-example.ipynb**\n",
    "\n",
    "**Author: Du Huynh**\n",
    "\n",
    "A small example showing **stratified sampling**.\n",
    "\n",
    "March 2022</span>\n",
    "</div>"
   ]
  },
  {
   "cell_type": "code",
   "execution_count": 1,
   "id": "735dd9bc-6137-4651-836d-42974528cc7c",
   "metadata": {},
   "outputs": [],
   "source": []
  },
  {
   "cell_type": "code",
   "execution_count": null,
   "metadata": {},
   "outputs": [],
   "source": [
    "import numpy as np\n",
    "from sklearn.model_selection import train_test_split"
   ]
  },
  {
   "cell_type": "code",
   "execution_count": 2,
   "id": "17b03c03-5bf2-4495-a262-796cce61e169",
   "metadata": {},
   "outputs": [],
   "source": [
    "# synthesize some a X matrix having 2 feature columns and 15 instances.\n",
    "X = np.arange(30).reshape((15, 2))\n",
    "\n",
    "# synthesize an array containing the class labels. There are two labels: 0 and 1.\n",
    "# This is an imbalanced dataset, as we have 10 instances in class 0 and only 5 instances\n",
    "# in class 1.\n",
    "y = np.array([0,0,0,0,0,0,0,0,0,0,1,1,1,1,1])"
   ]
  },
  {
   "cell_type": "markdown",
   "id": "ab5e4e3b",
   "metadata": {},
   "source": [
    "For the cell below, try the following:\n",
    "\n",
    "1. Run the cell a few times. You should see the training and test sets are different each time.\n",
    "\n",
    "1. Next, insert the optional argument `random_state=42` (you can replace `42` by a different random seed also). Run the cell again a few times. You should see the same instances being assigned to the training and test sets.\n",
    "\n",
    "   In the experiments in Steps 1 and 2 above, pay attention also to the last two numbers output by the `print` statements. The two numbers are usually different in each run.\n",
    "\n",
    "1. Replace the call to the `train_test_split` function as follows:\n",
    "\n",
    "   <code>X_train, X_test, y_train, y_test = train_test_split(X, y, test_size=0.2, stratify=y)</code>\n",
    "\n",
    "   Here, we use the `stratify` argument to indicate that we want **stratified sampling**, i.e., we want the training set and the test set to preserve as much as possible the ratio of the number of instances of class 0 and class 1. In our `y` array, the number of class 0 instances is 2/3 (or 0.6666) of the total number of instances. In Step 3 above, run the cell a few times and you should see `0.6666666666666666` as the outputs from the two `print` statements."
   ]
  },
  {
   "cell_type": "code",
   "execution_count": 3,
   "id": "4b6eb31b-4f0c-4a32-a993-611c8f2e9b76",
   "metadata": {},
   "outputs": [
    {
     "name": "stdout",
     "output_type": "stream",
     "text": [
      "X_train =\n",
      "[[ 2  3]\n",
      " [28 29]\n",
      " [10 11]\n",
      " [22 23]\n",
      " [26 27]\n",
      " [18 19]\n",
      " [12 13]\n",
      " [24 25]\n",
      " [ 4  5]\n",
      " [ 6  7]\n",
      " [16 17]\n",
      " [20 21]]\n",
      "X_test =\n",
      "[[ 0  1]\n",
      " [14 15]\n",
      " [ 8  9]]\n",
      "y_train =\n",
      "[0 1 0 1 1 0 0 1 0 0 0 1]\n",
      "y_test =\n",
      "[0 0 0]\n",
      "0.5833333333333334\n",
      "1.0\n"
     ]
    }
   ],
   "source": [
    "X_train, X_test, y_train, y_test = train_test_split(X, y, test_size=0.2)\n",
    "print('X_train ='), print(X_train)\n",
    "print('X_test ='), print(X_test)\n",
    "print('y_train ='), print(y_train)\n",
    "print('y_test ='), print(y_test)\n",
    "\n",
    "print(np.sum(y_train==0)/len(y_train))\n",
    "print(np.sum(y_test==0)/len(y_test))"
   ]
  }
 ],
 "metadata": {
  "kernelspec": {
   "display_name": "Python 3 (ipykernel)",
   "language": "python",
   "name": "python3"
  },
  "language_info": {
   "codemirror_mode": {
    "name": "ipython",
    "version": 3
   },
   "file_extension": ".py",
   "mimetype": "text/x-python",
   "name": "python",
   "nbconvert_exporter": "python",
   "pygments_lexer": "ipython3",
   "version": "3.8.5"
  }
 },
 "nbformat": 4,
 "nbformat_minor": 5
}
